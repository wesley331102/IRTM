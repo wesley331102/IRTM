{
 "cells": [
  {
   "cell_type": "code",
   "execution_count": 1,
   "metadata": {},
   "outputs": [],
   "source": [
    "import os "
   ]
  },
  {
   "cell_type": "code",
   "execution_count": 2,
   "metadata": {},
   "outputs": [],
   "source": [
    "science_data_dir = os.path.join(\".\", \"txtFile\")\n",
    "science_names = os.listdir(science_data_dir)"
   ]
  },
  {
   "cell_type": "code",
   "execution_count": 3,
   "metadata": {},
   "outputs": [],
   "source": [
    "with open(os.path.join(science_data_dir, science_names[0]), encoding=\"utf-8\") as f:\n",
    "    plain_text = f.readlines()"
   ]
  },
  {
   "cell_type": "code",
   "execution_count": 22,
   "metadata": {},
   "outputs": [],
   "source": [
    "X = []\n",
    "y = []\n",
    "for file in science_names:\n",
    "    X_ = []\n",
    "    y_ = []\n",
    "    with open(os.path.join(science_data_dir, file), encoding=\"utf-8\") as f:\n",
    "        plain_text = f.readlines()\n",
    "    plain_text = \"\".join(plain_text).replace(\"\\n\", \"\")\n",
    "    plain_text = \"\".join(plain_text).replace(\"\\u3000\", \"\")\n",
    "    questions = plain_text.split(\"題號\")\n",
    "    questions = questions[1:]\n",
    "    for q in questions:\n",
    "        try:\n",
    "            _ = q.split(\"（  ）\")[1]\n",
    "            X_.append(_)\n",
    "        except:\n",
    "            pass\n",
    "    label = file.split(\".\")[0]\n",
    "    y_ = [label] * len(X_)\n",
    "    X += X_\n",
    "    y += y_\n",
    "\n",
    "    \n",
    "\n"
   ]
  },
  {
   "cell_type": "code",
   "execution_count": null,
   "metadata": {},
   "outputs": [],
   "source": []
  }
 ],
 "metadata": {
  "interpreter": {
   "hash": "de33a44022b5bb56df5dffbe1149d75414e5aab37da987f3be3d0e53a4ced27f"
  },
  "kernelspec": {
   "display_name": "Python 3.9.9 64-bit ('env': venv)",
   "language": "python",
   "name": "python3"
  },
  "language_info": {
   "codemirror_mode": {
    "name": "ipython",
    "version": 3
   },
   "file_extension": ".py",
   "mimetype": "text/x-python",
   "name": "python",
   "nbconvert_exporter": "python",
   "pygments_lexer": "ipython3",
   "version": "3.9.9"
  },
  "orig_nbformat": 4
 },
 "nbformat": 4,
 "nbformat_minor": 2
}
